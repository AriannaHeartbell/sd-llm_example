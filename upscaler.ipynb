{
  "nbformat": 4,
  "nbformat_minor": 0,
  "metadata": {
    "colab": {
      "provenance": [],
      "machine_shape": "hm",
      "gpuType": "T4",
      "authorship_tag": "ABX9TyMNJ1D5nP00YBttLb5qYYky",
      "include_colab_link": true
    },
    "kernelspec": {
      "name": "python3",
      "display_name": "Python 3"
    },
    "language_info": {
      "name": "python"
    },
    "accelerator": "GPU"
  },
  "cells": [
    {
      "cell_type": "markdown",
      "metadata": {
        "id": "view-in-github",
        "colab_type": "text"
      },
      "source": [
        "<a href=\"https://colab.research.google.com/github/AriannaHeartbell/sdproject/blob/main/upscaler.ipynb\" target=\"_parent\"><img src=\"https://colab.research.google.com/assets/colab-badge.svg\" alt=\"Open In Colab\"/></a>"
      ]
    },
    {
      "cell_type": "code",
      "source": [
        "!pip install spandrel"
      ],
      "metadata": {
        "colab": {
          "base_uri": "https://localhost:8080/"
        },
        "id": "nl_60sz1xi0g",
        "outputId": "c42f7b1b-3e38-4c40-913e-2979f068ef63"
      },
      "execution_count": null,
      "outputs": [
        {
          "output_type": "stream",
          "name": "stdout",
          "text": [
            "Collecting spandrel\n",
            "  Downloading spandrel-0.2.1-py3-none-any.whl (287 kB)\n",
            "\u001b[?25l     \u001b[90m━━━━━━━━━━━━━━━━━━━━━━━━━━━━━━━━━━━━━━━━\u001b[0m \u001b[32m0.0/287.9 kB\u001b[0m \u001b[31m?\u001b[0m eta \u001b[36m-:--:--\u001b[0m\r\u001b[2K     \u001b[91m━━━━━━━━━━━━━━━━━━━━━━━━\u001b[0m\u001b[90m╺\u001b[0m\u001b[90m━━━━━━━━━━━━━━━\u001b[0m \u001b[32m174.1/287.9 kB\u001b[0m \u001b[31m5.0 MB/s\u001b[0m eta \u001b[36m0:00:01\u001b[0m\r\u001b[2K     \u001b[90m━━━━━━━━━━━━━━━━━━━━━━━━━━━━━━━━━━━━━━━━\u001b[0m \u001b[32m287.9/287.9 kB\u001b[0m \u001b[31m5.8 MB/s\u001b[0m eta \u001b[36m0:00:00\u001b[0m\n",
            "\u001b[?25hRequirement already satisfied: torch in /usr/local/lib/python3.10/dist-packages (from spandrel) (2.1.0+cu121)\n",
            "Requirement already satisfied: torchvision in /usr/local/lib/python3.10/dist-packages (from spandrel) (0.16.0+cu121)\n",
            "Requirement already satisfied: safetensors in /usr/local/lib/python3.10/dist-packages (from spandrel) (0.4.2)\n",
            "Requirement already satisfied: numpy in /usr/local/lib/python3.10/dist-packages (from spandrel) (1.23.5)\n",
            "Collecting einops (from spandrel)\n",
            "  Downloading einops-0.7.0-py3-none-any.whl (44 kB)\n",
            "\u001b[?25l     \u001b[90m━━━━━━━━━━━━━━━━━━━━━━━━━━━━━━━━━━━━━━━━\u001b[0m \u001b[32m0.0/44.6 kB\u001b[0m \u001b[31m?\u001b[0m eta \u001b[36m-:--:--\u001b[0m\r\u001b[2K     \u001b[90m━━━━━━━━━━━━━━━━━━━━━━━━━━━━━━━━━━━━━━━━\u001b[0m \u001b[32m44.6/44.6 kB\u001b[0m \u001b[31m6.7 MB/s\u001b[0m eta \u001b[36m0:00:00\u001b[0m\n",
            "\u001b[?25hRequirement already satisfied: typing-extensions in /usr/local/lib/python3.10/dist-packages (from spandrel) (4.5.0)\n",
            "Requirement already satisfied: filelock in /usr/local/lib/python3.10/dist-packages (from torch->spandrel) (3.13.1)\n",
            "Requirement already satisfied: sympy in /usr/local/lib/python3.10/dist-packages (from torch->spandrel) (1.12)\n",
            "Requirement already satisfied: networkx in /usr/local/lib/python3.10/dist-packages (from torch->spandrel) (3.2.1)\n",
            "Requirement already satisfied: jinja2 in /usr/local/lib/python3.10/dist-packages (from torch->spandrel) (3.1.3)\n",
            "Requirement already satisfied: fsspec in /usr/local/lib/python3.10/dist-packages (from torch->spandrel) (2023.6.0)\n",
            "Requirement already satisfied: triton==2.1.0 in /usr/local/lib/python3.10/dist-packages (from torch->spandrel) (2.1.0)\n",
            "Requirement already satisfied: requests in /usr/local/lib/python3.10/dist-packages (from torchvision->spandrel) (2.31.0)\n",
            "Requirement already satisfied: pillow!=8.3.*,>=5.3.0 in /usr/local/lib/python3.10/dist-packages (from torchvision->spandrel) (9.4.0)\n",
            "Requirement already satisfied: MarkupSafe>=2.0 in /usr/local/lib/python3.10/dist-packages (from jinja2->torch->spandrel) (2.1.4)\n",
            "Requirement already satisfied: charset-normalizer<4,>=2 in /usr/local/lib/python3.10/dist-packages (from requests->torchvision->spandrel) (3.3.2)\n",
            "Requirement already satisfied: idna<4,>=2.5 in /usr/local/lib/python3.10/dist-packages (from requests->torchvision->spandrel) (3.6)\n",
            "Requirement already satisfied: urllib3<3,>=1.21.1 in /usr/local/lib/python3.10/dist-packages (from requests->torchvision->spandrel) (2.0.7)\n",
            "Requirement already satisfied: certifi>=2017.4.17 in /usr/local/lib/python3.10/dist-packages (from requests->torchvision->spandrel) (2023.11.17)\n",
            "Requirement already satisfied: mpmath>=0.19 in /usr/local/lib/python3.10/dist-packages (from sympy->torch->spandrel) (1.3.0)\n",
            "Installing collected packages: einops, spandrel\n",
            "Successfully installed einops-0.7.0 spandrel-0.2.1\n"
          ]
        }
      ]
    },
    {
      "cell_type": "code",
      "source": [
        "# 구글 드라이브 마운트\n",
        "from google.colab import drive\n",
        "drive.mount('/content/drive')"
      ],
      "metadata": {
        "colab": {
          "base_uri": "https://localhost:8080/"
        },
        "id": "LtxlTebIxmaF",
        "outputId": "f484d05f-c682-4da5-8784-19327bd52d9e"
      },
      "execution_count": null,
      "outputs": [
        {
          "output_type": "stream",
          "name": "stdout",
          "text": [
            "Mounted at /content/drive\n"
          ]
        }
      ]
    },
    {
      "cell_type": "markdown",
      "source": [
        "참조: https://chat.openai.com/share/ab2673a1-8a17-4551-a317-eeda61ec3654"
      ],
      "metadata": {
        "id": "_QN9KhiJ2j4K"
      }
    },
    {
      "cell_type": "code",
      "source": [
        "from torchvision.transforms import Resize\n",
        "import os\n",
        "\n",
        "\n",
        "# 폴더 경로 변수 설정\n",
        "input_folder = '/content/drive/MyDrive/SD/UP/up_8'\n",
        "output_folder = '/content/drive/MyDrive/SD/UP/upd_8'\n",
        "model_path = '/content/drive/MyDrive/SD/models/RealESRGAN/RealESRGAN_x4plus_anime_6B.pth'\n",
        "\n",
        "# 모델 로드\n",
        "model = ModelLoader().load_from_file(model_path)\n",
        "assert isinstance(model, ImageModelDescriptor)\n",
        "model.cuda().eval()\n",
        "\n",
        "# 이미지 처리 함수\n",
        "def process(image: torch.Tensor) -> torch.Tensor:\n",
        "    with torch.no_grad():\n",
        "        return model(image)\n",
        "\n",
        "# 이미지 크기 조절 함수\n",
        "def resize_image(image, scale_factor=0.5):\n",
        "    # 이미지를 RGBA로 변환 (투명도가 있는 팔레트 이미지인 경우)\n",
        "    if image.mode == 'P':\n",
        "        image = image.convert('RGBA')\n",
        "    elif image.mode != 'RGB':\n",
        "        image = image.convert('RGB')\n",
        "\n",
        "    width, height = image.size\n",
        "    new_width, new_height = int(width * scale_factor), int(height * scale_factor)\n",
        "    resize = Resize((new_height, new_width))\n",
        "    return resize(image)\n",
        "\n",
        "# 하위 폴더를 포함한 모든 이미지 파일의 경로 찾기\n",
        "image_paths = []\n",
        "for subdir, dirs, files in os.walk(input_folder):\n",
        "    for file in files:\n",
        "        filepath = os.path.join(subdir, file)\n",
        "        if filepath.endswith(\".jpg\") or filepath.endswith(\".png\"):\n",
        "            image_paths.append(filepath)\n",
        "\n",
        "# 각 이미지 처리\n",
        "for image_path in image_paths:\n",
        "    image = Image.open(image_path)\n",
        "    resized_image = resize_image(image)  # 이미지 크기 조절\n",
        "    image_tensor = TF.to_tensor(resized_image).unsqueeze(0).cuda()  # 변환된 이미지를 텐서로 변환하고 GPU로 보냄\n",
        "    processed_tensor = process(image_tensor)  # 이미지 처리\n",
        "    processed_image = TF.to_pil_image(processed_tensor.squeeze(0))  # 텐서를 PIL 이미지로 변환\n",
        "\n",
        "    # 상대 경로를 이용해 저장 경로 설정\n",
        "    relative_path = os.path.relpath(image_path, input_folder)\n",
        "    save_path = os.path.join(output_folder, relative_path)\n",
        "    os.makedirs(os.path.dirname(save_path), exist_ok=True)  # 필요한 경우 폴더 생성\n",
        "    processed_image.save(save_path)\n"
      ],
      "metadata": {
        "colab": {
          "base_uri": "https://localhost:8080/"
        },
        "id": "o7_5IQeB0ibJ",
        "outputId": "23571b0d-3b0d-4e67-f30b-40e39b759d74"
      },
      "execution_count": null,
      "outputs": [
        {
          "output_type": "stream",
          "name": "stderr",
          "text": [
            "/usr/local/lib/python3.10/dist-packages/PIL/Image.py:996: UserWarning: Palette images with Transparency expressed in bytes should be converted to RGBA images\n",
            "  warnings.warn(\n"
          ]
        }
      ]
    },
    {
      "cell_type": "markdown",
      "source": [],
      "metadata": {
        "id": "TqMLDot1xgs5"
      }
    }
  ]
}